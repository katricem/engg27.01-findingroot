{
 "cells": [
  {
   "cell_type": "markdown",
   "id": "50975070",
   "metadata": {},
   "source": [
    "# Computational Tasks\n",
    "\n",
    "Mendoza, Katrice Annika\n",
    "\n",
    "Tirana, Joshua Miguel"
   ]
  },
  {
   "cell_type": "markdown",
   "id": "0697f9a3",
   "metadata": {},
   "source": [
    "## Fixed Point Iteration"
   ]
  },
  {
   "cell_type": "code",
   "execution_count": 19,
   "id": "f7b52942",
   "metadata": {},
   "outputs": [
    {
     "data": {
      "text/plain": [
       "fixedpt (generic function with 2 methods)"
      ]
     },
     "execution_count": 19,
     "metadata": {},
     "output_type": "execute_result"
    }
   ],
   "source": [
    "function fixedpt(g::Function,pzero,N)\n",
    "    n=1\n",
    "    eps=10^-4\n",
    "    while n<N\n",
    "        pone=g(pzero)\n",
    "        if abs(pone-pzero)<eps\n",
    "            return println(\"p is $pone and the iteration number is $n\")\n",
    "        end\n",
    "        pzero=pone\n",
    "        n=n+1\n",
    "    end\n",
    "    println(\"Did not converge. The last estimate is p=$pzero.\")\n",
    "end"
   ]
  },
  {
   "cell_type": "markdown",
   "id": "90528ae7",
   "metadata": {},
   "source": [
    "The code above from the book First Semester in Numerical Analysis in Julia by Giray Okten illustrates the simplest way to look at the fixed point iteration algorithm.\n",
    "\n",
    "A function is defined which looks for the fixed point of a function $g(x)$. It takes the "
   ]
  }
 ],
 "metadata": {
  "kernelspec": {
   "display_name": "Julia 1.6.2",
   "language": "julia",
   "name": "julia-1.6"
  },
  "language_info": {
   "file_extension": ".jl",
   "mimetype": "application/julia",
   "name": "julia",
   "version": "1.6.2"
  }
 },
 "nbformat": 4,
 "nbformat_minor": 5
}
